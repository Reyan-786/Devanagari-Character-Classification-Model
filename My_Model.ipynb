{
 "cells": [
  {
   "cell_type": "markdown",
   "id": "907d2b7b",
   "metadata": {},
   "source": [
    "# Importing the required modules"
   ]
  },
  {
   "cell_type": "code",
   "execution_count": 125,
   "id": "04fe511a",
   "metadata": {},
   "outputs": [],
   "source": [
    "import tensorflow as tf\n",
    "import numpy as np\n",
    "import pandas \n",
    "import sklearn.svm\n",
    "import matplotlib.pyplot as plt \n",
    "import cv2\n",
    "import pandas as pd"
   ]
  },
  {
   "cell_type": "markdown",
   "id": "779102f0",
   "metadata": {},
   "source": [
    "# Changing The Directory"
   ]
  },
  {
   "cell_type": "code",
   "execution_count": 2,
   "id": "b2831374",
   "metadata": {},
   "outputs": [],
   "source": [
    "import os\n",
    "os.chdir('C:/Users/Participant4/Desktop/HackathonDataset/Train_img')"
   ]
  },
  {
   "cell_type": "markdown",
   "id": "d4d987df",
   "metadata": {},
   "source": [
    "# Preparing The DataSet"
   ]
  },
  {
   "cell_type": "code",
   "execution_count": null,
   "id": "d93d8c97",
   "metadata": {},
   "outputs": [],
   "source": [
    "def load_images_from_directory(directory, label):\n",
    "    X = []\n",
    "    Y = []\n",
    "    for file in os.listdir(directory):\n",
    "        img = cv2.imread(os.path.join(directory, file), 0)\n",
    "        X.append(img)\n",
    "        Y.append(label)\n",
    "    return X, Y\n",
    "\n",
    "def load_images_and_labels():\n",
    "    X = []\n",
    "    Y = []\n",
    "    data_directories = {\n",
    "    1: 'C:/Users/Participant4/Desktop/HackathonDataset/Train_img/1',\n",
    "    2: 'C:/Users/Participant4/Desktop/HackathonDataset/Train_img/2',\n",
    "    3: 'C:/Users/Participant4/Desktop/HackathonDataset/Train_img/3',\n",
    "    4: 'C:/Users/Participant4/Desktop/HackathonDataset/Train_img/4',\n",
    "    5: 'C:/Users/Participant4/Desktop/HackathonDataset/Train_img/5',\n",
    "    6: 'C:/Users/Participant4/Desktop/HackathonDataset/Train_img/6',\n",
    "    7: 'C:/Users/Participant4/Desktop/HackathonDataset/Train_img/7',\n",
    "    8: 'C:/Users/Participant4/Desktop/HackathonDataset/Train_img/8',\n",
    "    9: 'C:/Users/Participant4/Desktop/HackathonDataset/Train_img/9',\n",
    "    10: 'C:/Users/Participant4/Desktop/HackathonDataset/Train_img/10',\n",
    "    11: 'C:/Users/Participant4/Desktop/HackathonDataset/Train_img/11',\n",
    "    12: 'C:/Users/Participant4/Desktop/HackathonDataset/Train_img/12',\n",
    "    13: 'C:/Users/Participant4/Desktop/HackathonDataset/Train_img/13',\n",
    "    14: 'C:/Users/Participant4/Desktop/HackathonDataset/Train_img/14',\n",
    "    15: 'C:/Users/Participant4/Desktop/HackathonDataset/Train_img/15',\n",
    "    16: 'C:/Users/Participant4/Desktop/HackathonDataset/Train_img/16',\n",
    "    17: 'C:/Users/Participant4/Desktop/HackathonDataset/Train_img/17',\n",
    "    18: 'C:/Users/Participant4/Desktop/HackathonDataset/Train_img/18',\n",
    "    19: 'C:/Users/Participant4/Desktop/HackathonDataset/Train_img/19',\n",
    "    20: 'C:/Users/Participant4/Desktop/HackathonDataset/Train_img/20',\n",
    "    21: 'C:/Users/Participant4/Desktop/HackathonDataset/Train_img/21',\n",
    "    22: 'C:/Users/Participant4/Desktop/HackathonDataset/Train_img/22',\n",
    "    23: 'C:/Users/Participant4/Desktop/HackathonDataset/Train_img/23',\n",
    "    24: 'C:/Users/Participant4/Desktop/HackathonDataset/Train_img/24',\n",
    "    25: 'C:/Users/Participant4/Desktop/HackathonDataset/Train_img/25',\n",
    "    26: 'C:/Users/Participant4/Desktop/HackathonDataset/Train_img/26',\n",
    "    27: 'C:/Users/Participant4/Desktop/HackathonDataset/Train_img/27',\n",
    "    28: 'C:/Users/Participant4/Desktop/HackathonDataset/Train_img/28',\n",
    "    29: 'C:/Users/Participant4/Desktop/HackathonDataset/Train_img/29',\n",
    "    30: 'C:/Users/Participant4/Desktop/HackathonDataset/Train_img/30',\n",
    "    31: 'C:/Users/Participant4/Desktop/HackathonDataset/Train_img/31'\n",
    "}\n",
    "\n",
    "\n",
    "    for label, directory in data_directories.items():\n",
    "        x, y = load_images_from_directory(directory, label)\n",
    "        X.extend(x)\n",
    "        Y.extend(y)\n",
    "\n",
    "    return X, Y\n",
    "\n",
    "X, Y = load_images_and_labels()\n"
   ]
  },
  {
   "cell_type": "markdown",
   "id": "e10e1cee",
   "metadata": {},
   "source": [
    "# Converting the list to array and inverting the Image Data"
   ]
  },
  {
   "cell_type": "code",
   "execution_count": 40,
   "id": "1aa8f7ae",
   "metadata": {},
   "outputs": [],
   "source": [
    "X=np.array(X)"
   ]
  },
  {
   "cell_type": "code",
   "execution_count": 44,
   "id": "263ceabb",
   "metadata": {},
   "outputs": [],
   "source": [
    "X.shape\n",
    "X=np.invert(X)"
   ]
  },
  {
   "cell_type": "code",
   "execution_count": 45,
   "id": "245f6c56",
   "metadata": {},
   "outputs": [
    {
     "data": {
      "text/plain": [
       "9"
      ]
     },
     "execution_count": 45,
     "metadata": {},
     "output_type": "execute_result"
    },
    {
     "data": {
      "image/png": "[encoded data removed]",
      "text/plain": [
       "<Figure size 640x480 with 1 Axes>"
      ]
     },
     "metadata": {},
     "output_type": "display_data"
    }
   ],
   "source": [
    "plt.imshow(X[12221],cmap='binary')\n",
    "Y[12221]\n"
   ]
  },
  {
   "cell_type": "code",
   "execution_count": 46,
   "id": "469a5840",
   "metadata": {},
   "outputs": [],
   "source": [
    "Y=np.array(Y)"
   ]
  },
  {
   "cell_type": "code",
   "execution_count": 47,
   "id": "e4b6e1bf",
   "metadata": {},
   "outputs": [
    {
     "data": {
      "text/plain": [
       "(44800,)"
      ]
     },
     "execution_count": 47,
     "metadata": {},
     "output_type": "execute_result"
    }
   ],
   "source": [
    "Y.shape"
   ]
  },
  {
   "cell_type": "markdown",
   "id": "a44e8b71",
   "metadata": {},
   "source": [
    "# Creating a Neural Network"
   ]
  },
  {
   "cell_type": "code",
   "execution_count": 130,
   "id": "a174ead9",
   "metadata": {},
   "outputs": [],
   "source": [
    "model=tf.keras.models.Sequential()"
   ]
  },
  {
   "cell_type": "code",
   "execution_count": 131,
   "id": "36395618",
   "metadata": {},
   "outputs": [],
   "source": [
    "X=tf.keras.utils.normalize(X)"
   ]
  },
  {
   "cell_type": "code",
   "execution_count": 132,
   "id": "cf294ee7",
   "metadata": {},
   "outputs": [],
   "source": [
    "model.add(tf.keras.layers.Flatten(input_shape=(85,85)))"
   ]
  },
  {
   "cell_type": "code",
   "execution_count": 133,
   "id": "6c4203c2",
   "metadata": {},
   "outputs": [],
   "source": [
    "model.add(tf.keras.layers.Dense(256,activation='relu'))\n",
    "model.add(tf.keras.layers.Dense(256,activation='relu'))\n",
    "model.add(tf.keras.layers.Dense(256,activation='relu'))\n",
    "model.add(tf.keras.layers.Dense(256,activation='relu'))"
   ]
  },
  {
   "cell_type": "code",
   "execution_count": 134,
   "id": "3abb90e3",
   "metadata": {},
   "outputs": [],
   "source": [
    "\n",
    "model.add(tf.keras.layers.Dense(33,activation='softmax'))"
   ]
  },
  {
   "cell_type": "code",
   "execution_count": 148,
   "id": "d95323bf",
   "metadata": {},
   "outputs": [
    {
     "name": "stdout",
     "output_type": "stream",
     "text": [
      "Epoch 1/15\n",
      "1400/1400 [==============================] - 34s 24ms/step - loss: 0.1515 - accuracy: 0.9498\n",
      "Epoch 2/15\n",
      "1400/1400 [==============================] - 32s 23ms/step - loss: 0.1307 - accuracy: 0.9568\n",
      "Epoch 3/15\n",
      "1400/1400 [==============================] - 32s 23ms/step - loss: 0.1340 - accuracy: 0.9561\n",
      "Epoch 4/15\n",
      "1400/1400 [==============================] - 32s 23ms/step - loss: 0.1211 - accuracy: 0.9602\n",
      "Epoch 5/15\n",
      "1400/1400 [==============================] - 32s 23ms/step - loss: 0.1162 - accuracy: 0.9632\n",
      "Epoch 6/15\n",
      "1400/1400 [==============================] - 32s 23ms/step - loss: 0.1047 - accuracy: 0.9673\n",
      "Epoch 7/15\n",
      "1400/1400 [==============================] - 32s 23ms/step - loss: 0.1139 - accuracy: 0.9641\n",
      "Epoch 8/15\n",
      "1400/1400 [==============================] - 32s 23ms/step - loss: 0.0988 - accuracy: 0.9683\n",
      "Epoch 9/15\n",
      "1400/1400 [==============================] - 32s 23ms/step - loss: 0.0964 - accuracy: 0.9699\n",
      "Epoch 10/15\n",
      "1400/1400 [==============================] - 32s 23ms/step - loss: 0.1000 - accuracy: 0.9701\n",
      "Epoch 11/15\n",
      "1400/1400 [==============================] - 32s 23ms/step - loss: 0.0927 - accuracy: 0.9721\n",
      "Epoch 12/15\n",
      "1400/1400 [==============================] - 32s 23ms/step - loss: 0.0937 - accuracy: 0.9725\n",
      "Epoch 13/15\n",
      "1400/1400 [==============================] - 34s 24ms/step - loss: 0.0954 - accuracy: 0.9727\n",
      "Epoch 14/15\n",
      "1400/1400 [==============================] - 33s 24ms/step - loss: 0.0893 - accuracy: 0.9743\n",
      "Epoch 15/15\n",
      "1400/1400 [==============================] - 33s 24ms/step - loss: 0.0892 - accuracy: 0.9734\n"
     ]
    },
    {
     "data": {
      "text/plain": [
       "<keras.callbacks.History at 0x23400fce400>"
      ]
     },
     "execution_count": 148,
     "metadata": {},
     "output_type": "execute_result"
    }
   ],
   "source": [
    "model.compile(optimizer='adam',loss='sparse_categorical_crossentropy',metrics =['accuracy'])\n",
    "model.fit(X,Y,epochs=15)"
   ]
  },
  {
   "cell_type": "markdown",
   "id": "2e5950a1",
   "metadata": {},
   "source": [
    "# Checking the loss and accuracy for Training DataSet"
   ]
  },
  {
   "cell_type": "code",
   "execution_count": 149,
   "id": "4ff40b8b",
   "metadata": {},
   "outputs": [
    {
     "name": "stdout",
     "output_type": "stream",
     "text": [
      "1400/1400 [==============================] - 8s 6ms/step - loss: 0.0728 - accuracy: 0.9784\n",
      "loss-: 7.28289932012558 %\n",
      "accuracy-: 97.83705472946167 %\n"
     ]
    }
   ],
   "source": [
    "loss,accuracy = model.evaluate(X,Y)\n",
    "print (\"loss-:\",loss*100,\"%\")\n",
    "print (\"accuracy-:\",accuracy*100,\"%\")"
   ]
  },
  {
   "cell_type": "markdown",
   "id": "d2e29392",
   "metadata": {},
   "source": [
    "# Saving the Model"
   ]
  },
  {
   "cell_type": "code",
   "execution_count": 150,
   "id": "456d774a",
   "metadata": {},
   "outputs": [
    {
     "name": "stderr",
     "output_type": "stream",
     "text": [
      "WARNING:absl:Found untraced functions such as _update_step_xla while saving (showing 1 of 1). These functions will not be directly callable after loading.\n"
     ]
    },
    {
     "name": "stdout",
     "output_type": "stream",
     "text": [
      "INFO:tensorflow:Assets written to: Hindi_Character_Recognition.model\\assets\n"
     ]
    },
    {
     "name": "stderr",
     "output_type": "stream",
     "text": [
      "INFO:tensorflow:Assets written to: Hindi_Character_Recognition.model\\assets\n"
     ]
    }
   ],
   "source": [
    "model.save('Hindi_Character_Recognition.model')"
   ]
  },
  {
   "cell_type": "markdown",
   "id": "e5627ef2",
   "metadata": {},
   "source": [
    "# Layered View of The Neural Network\n"
   ]
  },
  {
   "cell_type": "code",
   "execution_count": 153,
   "id": "bb7e2451",
   "metadata": {},
   "outputs": [],
   "source": [
    "import visualkeras as vk"
   ]
  },
  {
   "cell_type": "code",
   "execution_count": 154,
   "id": "b4ce6f37",
   "metadata": {},
   "outputs": [
    {
     "data": {
      "image/png": "[encoded data removed]",
      "text/plain": [
       "<PIL.Image.Image image mode=RGBA size=600x27>"
      ]
     },
     "execution_count": 154,
     "metadata": {},
     "output_type": "execute_result"
    }
   ],
   "source": [
    "vk.layered_view(model)"
   ]
  },
  {
   "cell_type": "markdown",
   "id": "5f992fb8",
   "metadata": {},
   "source": [
    "# Summary of The Model"
   ]
  },
  {
   "cell_type": "code",
   "execution_count": 155,
   "id": "9168d3c7",
   "metadata": {},
   "outputs": [
    {
     "name": "stdout",
     "output_type": "stream",
     "text": [
      "Model: \"sequential_4\"\n",
      "_________________________________________________________________\n",
      " Layer (type)                Output Shape              Param #   \n",
      "=================================================================\n",
      " flatten_3 (Flatten)         (None, 7225)              0         \n",
      "                                                                 \n",
      " dense_10 (Dense)            (None, 256)               1849856   \n",
      "                                                                 \n",
      " dense_11 (Dense)            (None, 256)               65792     \n",
      "                                                                 \n",
      " dense_12 (Dense)            (None, 256)               65792     \n",
      "                                                                 \n",
      " dense_13 (Dense)            (None, 256)               65792     \n",
      "                                                                 \n",
      " dense_14 (Dense)            (None, 33)                8481      \n",
      "                                                                 \n",
      "=================================================================\n",
      "Total params: 2,055,713\n",
      "Trainable params: 2,055,713\n",
      "Non-trainable params: 0\n",
      "_________________________________________________________________\n"
     ]
    }
   ],
   "source": [
    "model.summary()"
   ]
  },
  {
   "cell_type": "markdown",
   "id": "15d9b5a0",
   "metadata": {},
   "source": [
    "# Creating a Validation Data Set from the train data Set "
   ]
  },
  {
   "cell_type": "code",
   "execution_count": 156,
   "id": "f15ed38f",
   "metadata": {},
   "outputs": [],
   "source": [
    "x_test=X[40000:,:]"
   ]
  },
  {
   "cell_type": "code",
   "execution_count": 157,
   "id": "69821de9",
   "metadata": {},
   "outputs": [],
   "source": [
    "y_test=Y[40000:]"
   ]
  },
  {
   "cell_type": "markdown",
   "id": "4e79aca1",
   "metadata": {},
   "source": [
    "# Predicting on the Validation Data "
   ]
  },
  {
   "cell_type": "code",
   "execution_count": 158,
   "id": "a0f5d8c9",
   "metadata": {},
   "outputs": [
    {
     "name": "stdout",
     "output_type": "stream",
     "text": [
      "150/150 [==============================] - 1s 6ms/step\n"
     ]
    }
   ],
   "source": [
    "y_pred=model.predict(x_test)\n",
    "result=[]\n",
    "for i in range(0,4800):\n",
    "    result.append(np.argmax(y_pred[i]))\n",
    "result=np.array(result)\n"
   ]
  },
  {
   "cell_type": "markdown",
   "id": "8db83156",
   "metadata": {},
   "source": [
    "# Evaluating on the Validation Data "
   ]
  },
  {
   "cell_type": "code",
   "execution_count": 159,
   "id": "94360f09",
   "metadata": {},
   "outputs": [
    {
     "name": "stdout",
     "output_type": "stream",
     "text": [
      "150/150 [==============================] - 1s 6ms/step - loss: 0.0484 - accuracy: 0.9852\n"
     ]
    },
    {
     "data": {
      "text/plain": [
       "[0.04838845133781433, 0.9852083325386047]"
      ]
     },
     "execution_count": 159,
     "metadata": {},
     "output_type": "execute_result"
    }
   ],
   "source": [
    "model.evaluate(x_test,y_test)"
   ]
  },
  {
   "cell_type": "markdown",
   "id": "e0797570",
   "metadata": {},
   "source": [
    "# Confusion Matrix And Acuracy Score on the Validation Data \n"
   ]
  },
  {
   "cell_type": "code",
   "execution_count": 160,
   "id": "1a67c323",
   "metadata": {},
   "outputs": [
    {
     "data": {
      "text/plain": [
       "Text(50.722222222222214, 0.5, 'actual')"
      ]
     },
     "execution_count": 160,
     "metadata": {},
     "output_type": "execute_result"
    },
    {
     "data": {
      "image/png": "[encoded data removed]",
      "text/plain": [
       "<Figure size 640x480 with 2 Axes>"
      ]
     },
     "metadata": {},
     "output_type": "display_data"
    }
   ],
   "source": [
    "cm=tf.math.confusion_matrix(y_test,result)\n",
    "import seaborn as sns\n",
    "sns.heatmap(cm,annot=True,fmt='d')\n",
    "plt.xlabel('predicted')\n",
    "plt.ylabel('actual')"
   ]
  },
  {
   "cell_type": "code",
   "execution_count": 161,
   "id": "1039aeeb",
   "metadata": {},
   "outputs": [
    {
     "name": "stdout",
     "output_type": "stream",
     "text": [
      "0.9852083333333334\n"
     ]
    }
   ],
   "source": [
    "from sklearn.metrics import accuracy_score\n",
    "print(accuracy_score(y_test,result))"
   ]
  }
 ],
 "metadata": {
  "kernelspec": {
   "display_name": "Python 3",
   "language": "python",
   "name": "python3"
  },
  "language_info": {
   "codemirror_mode": {
    "name": "ipython",
    "version": 3
   },
   "file_extension": ".py",
   "mimetype": "text/x-python",
   "name": "python",
   "nbconvert_exporter": "python",
   "pygments_lexer": "ipython3",
   "version": "3.10.7"
  },
  "vscode": {
   "interpreter": {
    "hash": "876db7d3f8682b7e4c5477e5f1e2dc2bd1b19fe05d9aabd59218369070754b39"
   }
  }
 },
 "nbformat": 4,
 "nbformat_minor": 5
}
